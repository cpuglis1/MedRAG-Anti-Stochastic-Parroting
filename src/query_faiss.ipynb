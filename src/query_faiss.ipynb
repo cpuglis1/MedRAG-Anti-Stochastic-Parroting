{
 "cells": [
  {
   "cell_type": "code",
   "execution_count": 3,
   "id": "8f87ad5a-1373-4c03-8043-8ec833040ea3",
   "metadata": {},
   "outputs": [
    {
     "name": "stderr",
     "output_type": "stream",
     "text": [
      "/Users/cep4u/mambaforge/envs/LoRa/lib/python3.11/site-packages/tqdm/auto.py:21: TqdmWarning: IProgress not found. Please update jupyter and ipywidgets. See https://ipywidgets.readthedocs.io/en/stable/user_install.html\n",
      "  from .autonotebook import tqdm as notebook_tqdm\n"
     ]
    }
   ],
   "source": [
    "import pandas as pd\n",
    "import numpy as np\n",
    "import warnings\n",
    "from transformers import AutoTokenizer\n",
    "from transformers import AutoModel\n",
    "from datasets import load_dataset\n",
    "import torch\n",
    "import pickle\n",
    "import faiss\n",
    "warnings.filterwarnings(\"ignore\")"
   ]
  },
  {
   "cell_type": "code",
   "execution_count": 4,
   "id": "0221d702-8e14-41ae-a85c-8a2973876bda",
   "metadata": {},
   "outputs": [],
   "source": [
    "dataset = load_dataset(\"scientific_papers\", \"pubmed\", split=\"train\")"
   ]
  },
  {
   "cell_type": "code",
   "execution_count": 32,
   "id": "32d4f490-b40b-4a72-9d94-05641ecdabec",
   "metadata": {},
   "outputs": [],
   "source": [
    "model = AutoModel.from_pretrained('stanford-crfm/BioMedLM')"
   ]
  },
  {
   "cell_type": "code",
   "execution_count": 5,
   "id": "5e395eab-106a-411b-8012-67bcc8f338c9",
   "metadata": {},
   "outputs": [],
   "source": [
    "tokenizer = AutoTokenizer.from_pretrained('stanford-crfm/BioMedLM')"
   ]
  },
  {
   "cell_type": "code",
   "execution_count": 6,
   "id": "7cd74366-7a66-4dd4-8ab7-23e443c87ddd",
   "metadata": {},
   "outputs": [],
   "source": [
    "index = faiss.read_index('KB_100k_abstracts_03012024.faiss')"
   ]
  },
  {
   "cell_type": "code",
   "execution_count": 7,
   "id": "79621f6b-33f5-4ec8-b290-b18840748793",
   "metadata": {},
   "outputs": [],
   "source": [
    "with open('abstract_map.pkl', 'rb') as pickle_file:\n",
    "    abstract_map = pickle.load(pickle_file)"
   ]
  },
  {
   "cell_type": "code",
   "execution_count": 8,
   "id": "2568160a-70d5-474b-8425-51f82fe32d6e",
   "metadata": {},
   "outputs": [],
   "source": [
    "def get_embedding(token_ids):\n",
    "    \"\"\"Generate embedding for token IDs, handling sequences longer than the model's max length.\"\"\"\n",
    "    max_length = 1024 \n",
    "    chunks = [token_ids[i:i + max_length] for i in range(0, len(token_ids), max_length)]\n",
    "\n",
    "    embeddings = []\n",
    "    with torch.no_grad():\n",
    "        for chunk in chunks:\n",
    "            if len(chunk) > 0:\n",
    "                inputs = torch.tensor(chunk).unsqueeze(0)\n",
    "                if inputs.size(1) > 0: \n",
    "                    outputs = model(inputs)\n",
    "                    chunk_embedding = outputs.last_hidden_state.mean(dim=1)\n",
    "                    embeddings.append(chunk_embedding)\n",
    "\n",
    "\n",
    "    if len(embeddings) == 0:\n",
    "        return np.zeros(model.config.hidden_size)  \n",
    "\n",
    "    embeddings = torch.stack(embeddings).mean(dim=0)\n",
    "    return embeddings.squeeze().numpy()"
   ]
  },
  {
   "cell_type": "code",
   "execution_count": 33,
   "id": "d329adbe-bf7d-4995-85a5-5eaa8e52a83d",
   "metadata": {},
   "outputs": [],
   "source": [
    "def convert_to_token_ids(chunks):\n",
    "    \"\"\"Convert tokenized text chunks to token IDs, ensuring they are within the model's range.\"\"\"\n",
    "    token_ids = []\n",
    "    for chunk in chunks:\n",
    "        id_ = tokenizer.convert_tokens_to_ids(chunk)\n",
    "        if id_ < tokenizer.vocab_size:\n",
    "            token_ids.append(id_)\n",
    "    return token_ids"
   ]
  },
  {
   "cell_type": "code",
   "execution_count": 34,
   "id": "707b0873-0705-410d-b173-ee937b4b6f11",
   "metadata": {},
   "outputs": [],
   "source": [
    "def search_abstracts(query, k=10):\n",
    "    \"\"\"Search for similar articles and return their abstracts.\"\"\"\n",
    "    tokenized_query = convert_to_token_ids(tokenizer.tokenize(query))\n",
    "    query_embedding = get_embedding(tokenized_query)\n",
    "    distances, indices = index.search(np.array([query_embedding]), k)\n",
    "    \n",
    "    return [abstract_map.get(i, \"No similar article found\") for i in indices[0] if i != -1]"
   ]
  },
  {
   "cell_type": "code",
   "execution_count": 58,
   "id": "e7b7c539-a21d-4958-9b53-4b5b8c08f371",
   "metadata": {},
   "outputs": [],
   "source": [
    "query = \"tumorigenic prostatic stroma and nontumorigenic prostatic epithelia\"\n",
    "results = search_abstracts(query)"
   ]
  },
  {
   "cell_type": "code",
   "execution_count": 63,
   "id": "4784f9c6-6eb6-4899-a657-00fb6266a8c1",
   "metadata": {},
   "outputs": [
    {
     "name": "stdout",
     "output_type": "stream",
     "text": [
      "Result 1:\n",
      " the interplay of different cell types of origin and distinct oncogenic mutations may determine the tumor subtype . \n",
      " we have recently found that although both basal and luminal epithelial cells can initiate prostate tumorigenesis , the latter are more likely to undergo transformation in response to a range of oncogenic events . \n",
      "\n",
      "Result 2:\n",
      " prostate stromal cells may play binary roles in the process of prostate cancer development . as the first to be encountered by infiltrating prostate cancer cells , prostate stromal cells form the first defense line against prostate cancer progression and metastasis . \n",
      " however , interaction between prostate cancer and stromal cells may facilitate the formation of a tumor microenvironment favoring cancer cell growth and survival . to establish an experimental system for studying the interaction between cancer and stromal cells \n",
      " , we isolated three matched pairs of normal and cancer - associated human prostate stromal clones . in this report , we describe the morphologic and behavioral characteristics of these cells and their effect on lncap prostate cancer cells in co - culture . unlike lncap prostate cancer cells , the isolated prostate stromal clones are large fibroblast - like cells with a slow proliferation rate . \n",
      " growth and survival of these clones are not affected by androgens . \n",
      " the stromal cells display high resistance to serum starvation , while cancer - associated stromal clones have differentiated survival ability . in co - culture experiments , the stromal cells protected some lncap prostate cancer cells from death by serum starvation , and cancer - associated stromal clones showed more protection . \n",
      " this work thus established a panel of valuable human prostate stromal cell lines , which could be used in co - culture to study the interaction between prostate cancer and prostate stromal cells . \n",
      "\n",
      "Result 3:\n",
      " inoculation of tumorigenic prostatic stroma and nontumorigenic prostatic epithelia into the subcutaneous space of syngeneic rats induced the development of carcinosarcoma . \n",
      " the induced tumors , which were composed of a mixture of adenocarcinoma and fibrosarcoma , were androgen responsive . \n",
      " this model offers a novel mechanism for prostatic carcinogenesis in which prostatic fibroblasts determine epithelial growth , androgen responsiveness , and tumorigenicity . \n",
      " our results emphasize the potential importance of an epigenetic pathway in prostatic carcinogenesis.imagesfigure 1 . \n",
      " afigure 1 . \n",
      " bfigure 4 . \n",
      " afigure 4 . \n",
      " bfigure 4 . \n",
      " c \n",
      "\n",
      "Result 4:\n",
      " hs-27a human bone stromal cells , in 2d or 3d coultures , induced cellular plasticity in human prostate cancer arcape and arcapm cells in an emt model .   cocultured arcape or arcapm cells with hs-27a , developed increased colony forming capacity and growth advantage , with arcape exhibiting the most significant increases in presence of bone or prostate stroma cells . \n",
      " prostate ( pt - n or pt - c ) or bone ( hs-27a ) stromal cells induced significant resistance to radiation treatment in arcape cells compared to arcapm cells \n",
      " . however pretreatment with anti - e - cadherin antibody ( shep8 - 7 ) or anti - alpha v integrin blocking antibody ( cnt095 )   significantly decreased stromal cell - induced radiation resistance in both arcape- and arcapm - cocultured cells . taken together \n",
      " the data suggest   that   mesenchymal - like cancer cells reverting to epithelial - like cells in the bone microenvironment through interaction with bone marrow stromal cells and reexpress e - cadherin . \n",
      " these cell adhesion molecules such as e - cadherin and integrin alpha v in cancer cells induce cell survival signals and mediate resistance to cancer treatments such as radiation . \n",
      "\n",
      "Result 5:\n",
      " carcinoembryonic antigen - related cell adhesion molecule-1 ( ceacam1 ) is a morphogen in an in vitro model for lumen formation and plays a similar role in breast epithelial cells implanted in humanized mammary fat pads in nod - scid mice . \n",
      " although extra cellular matrix alone is sufficient to stimulate lumen formation in ceacam1 transfected mcf-7 cells grown in 3d culture , there is an additional requirement for stromal or mesenchymal cells ( mscs ) for these cells to form xenografts with glandular structures in an orthotopic site . \n",
      " we demonstrate that optimal in vitro conditions include both matrigel and mscs and that the inclusion of collagen i inhibits xenograft differentiation . \n",
      " additionally , there is no need to remove the nascent murine mammary gland . \n",
      " the previously observed difference in gland development between the long and short cytoplasmic domain isoforms of ceacam1 is no longer observed in pregnant nod / scid mice suggesting that stimulation of the mammary fat pad by pregnancy critically affects xenograft differentiation . \n",
      "\n",
      "Result 6:\n",
      " aggressive carcinomas tend to adopt behaviors normally restricted to lymphocytes , including anchorage - independent mobilization , response to chemokines , and modulation of local inflammatory conditions . in a recent study we identified the lymphocyte - restricted chromatin regulator aiolos as an epigenetic driver of lymphocyte mimicry in lung cancer that links immune cell development to metastatic behavior . \n",
      "\n",
      "Result 7:\n",
      " the interactions between breast epithelium and stroma are fundamental to normal tissue homeostasis and for tumor initiation and progression . \n",
      " gene expression studies of in vitro coculture models demonstrate that in vitro models have relevance for tumor progression in vivo . \n",
      " for example , stromal gene expression has been shown to vary in association with tumor subtype in vivo , and analogous in vitro cocultures recapitulate subtype - specific biological interactions . \n",
      " cocultures can be used to study cancer cell interactions with specific stromal components ( e.g. , immune cells , fibroblasts , endothelium ) and different representative cell lines ( e.g. , cancer - associated versus normal - associated fibroblasts versus established , immortalized fibroblasts ) can help elucidate the role of stromal variation in tumor phenotypes . \n",
      " gene expression data can also be combined with cell - based assays to identify cellular phenotypes associated with gene expression changes . \n",
      " coculture systems are manipulable systems that can yield important insights about cell - cell interactions and the cellular phenotypes that occur as tumor and stroma co - evolve . \n",
      "\n",
      "Result 8:\n",
      " the engulfment of live cells may represent a mechanism of cell death . \n",
      " we reported that e - cadherin ( epithelial cadherin ) expression in human cancer cells favors the formation of cell - in - cell structures through the mechanism known as entosis , and that entosis contributes to a form of cellular competition in heterogeneous cancer cell populations . \n",
      "\n",
      "Result 9:\n",
      " human breast cancer represents a group of highly heterogeneous lesions consisting of about 20 morphologically and immnohistochemically distinct subtypes with substantially different prognoses . \n",
      " our recent studies have suggested that all breast cancer subtypes , however , may share a common pathway , tumor cell budding from focally disrupted tumor capsules , for their invasion . \n",
      " the potential mechanisms and clinical implications of our observations are discussed . \n",
      "\n",
      "Result 10:\n",
      " we reviewed the phenotypic and molecular characteristics of mcf10dcis.com and the sum cell lines based on numerous studies performed over the years . \n",
      " the major signaling pathways that give rise to the phenotype of these cells may serve as a good resource of information when researchers in drug discovery and development use these cells to identify novel targets and biomarkers . \n",
      " major signaling pathways and mutations affecting the coding sequence are also described providing important information when using these cells as a model in a variety of studies . \n",
      "\n"
     ]
    }
   ],
   "source": [
    "for count, result in enumerate(results, 1):\n",
    "    print(f\"Result {count}:\")\n",
    "    print(result)\n",
    "    print()"
   ]
  },
  {
   "cell_type": "code",
   "execution_count": null,
   "id": "48b02c88-608b-42f9-85eb-dd13a7070502",
   "metadata": {},
   "outputs": [],
   "source": []
  }
 ],
 "metadata": {
  "kernelspec": {
   "display_name": "LoRa",
   "language": "python",
   "name": "lora"
  },
  "language_info": {
   "codemirror_mode": {
    "name": "ipython",
    "version": 3
   },
   "file_extension": ".py",
   "mimetype": "text/x-python",
   "name": "python",
   "nbconvert_exporter": "python",
   "pygments_lexer": "ipython3",
   "version": "3.11.5"
  }
 },
 "nbformat": 4,
 "nbformat_minor": 5
}
