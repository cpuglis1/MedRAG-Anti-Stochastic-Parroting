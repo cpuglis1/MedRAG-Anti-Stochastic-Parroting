{
 "cells": [
  {
   "cell_type": "code",
   "execution_count": 1,
   "id": "c4a12eee-d51e-4a91-921b-518c4919cdf6",
   "metadata": {},
   "outputs": [
    {
     "name": "stderr",
     "output_type": "stream",
     "text": [
      "/Users/cep4u/mambaforge/envs/LoRa/lib/python3.11/site-packages/tqdm/auto.py:21: TqdmWarning: IProgress not found. Please update jupyter and ipywidgets. See https://ipywidgets.readthedocs.io/en/stable/user_install.html\n",
      "  from .autonotebook import tqdm as notebook_tqdm\n"
     ]
    }
   ],
   "source": [
    "import pandas as pd\n",
    "import numpy as np\n",
    "import warnings\n",
    "from transformers import AutoTokenizer\n",
    "from transformers import AutoModel\n",
    "from datasets import load_dataset\n",
    "import torch\n",
    "import faiss\n",
    "warnings.filterwarnings(\"ignore\")"
   ]
  },
  {
   "cell_type": "markdown",
   "id": "f121a85d-a97c-47ea-b071-1d8e6d5ed902",
   "metadata": {},
   "source": [
    "## Import Entire Dataset"
   ]
  },
  {
   "cell_type": "code",
   "execution_count": 2,
   "id": "7839e1f0-b9c4-4b19-a658-acfd3fb36c46",
   "metadata": {
    "scrolled": true
   },
   "outputs": [],
   "source": [
    "dataset = load_dataset(\"scientific_papers\", \"pubmed\", split=\"train\")"
   ]
  },
  {
   "cell_type": "markdown",
   "id": "d1c5bca1-131f-4aed-8822-d774bf44cc89",
   "metadata": {},
   "source": [
    "## Tokenize"
   ]
  },
  {
   "cell_type": "code",
   "execution_count": 10,
   "id": "1ac4c752-75a3-42fa-ab7c-69170c4b582c",
   "metadata": {},
   "outputs": [],
   "source": [
    "tokenizer = AutoTokenizer.from_pretrained('stanford-crfm/BioMedLM')"
   ]
  },
  {
   "cell_type": "code",
   "execution_count": 11,
   "id": "7e59a6e0-d7f8-4bcc-a3cc-9df10bbc828d",
   "metadata": {},
   "outputs": [],
   "source": [
    "def biomedical_tokenize_text_chunks(batch, chunk_size=1024):\n",
    "    # Initialize the dictionary to store tokenized chunks for each column\n",
    "    tokenized_batch = {'article_tokenized_chunks': [], 'abstract_tokenized_chunks': [], 'section_names_tokenized_chunks': []}\n",
    "    \n",
    "    # Process each text column in the batch\n",
    "    for article, abstract, section_names in zip(batch['article'], batch['abstract'], batch['section_names']):\n",
    "        # Tokenize and chunk 'article'\n",
    "        article_tokens = tokenizer.tokenize(article)\n",
    "        tokenized_batch['article_tokenized_chunks'].append(\n",
    "            [article_tokens[i:i + chunk_size] for i in range(0, len(article_tokens), chunk_size)]\n",
    "        )\n",
    "\n",
    "        # Tokenize and chunk 'abstract'\n",
    "        abstract_tokens = tokenizer.tokenize(abstract)\n",
    "        tokenized_batch['abstract_tokenized_chunks'].append(\n",
    "            [abstract_tokens[i:i + chunk_size] for i in range(0, len(abstract_tokens), chunk_size)]\n",
    "        )\n",
    "\n",
    "        # Tokenize and chunk 'section_names'\n",
    "        section_names_tokens = tokenizer.tokenize(section_names)\n",
    "        tokenized_batch['section_names_tokenized_chunks'].append(\n",
    "            [section_names_tokens[i:i + chunk_size] for i in range(0, len(section_names_tokens), chunk_size)]\n",
    "        )\n",
    "\n",
    "    return tokenized_batch\n"
   ]
  },
  {
   "cell_type": "code",
   "execution_count": 12,
   "id": "f359d297-8516-4ef0-8d64-2582ce280afd",
   "metadata": {},
   "outputs": [],
   "source": [
    "tokenized_dataset = dataset.map(biomedical_tokenize_text_chunks, batched=True, batch_size=16)"
   ]
  },
  {
   "cell_type": "code",
   "execution_count": 13,
   "id": "9fdbe63a-0baf-4e0c-8c6b-12b9711d8cc3",
   "metadata": {},
   "outputs": [
    {
     "data": {
      "text/plain": [
       "Dataset({\n",
       "    features: ['article', 'abstract', 'section_names', 'article_tokenized_chunks', 'abstract_tokenized_chunks', 'section_names_tokenized_chunks'],\n",
       "    num_rows: 119924\n",
       "})"
      ]
     },
     "execution_count": 13,
     "metadata": {},
     "output_type": "execute_result"
    }
   ],
   "source": [
    "tokenized_dataset"
   ]
  },
  {
   "cell_type": "code",
   "execution_count": 14,
   "id": "5e83aff7-8365-4e47-8c42-ee96e344add7",
   "metadata": {},
   "outputs": [],
   "source": [
    "import hashlib\n",
    "\n",
    "def generate_id(text):\n",
    "    return hashlib.sha256(text.encode()).hexdigest()\n",
    "\n",
    "dataset = tokenized_dataset\n",
    "\n",
    "def add_id(example):\n",
    "    unique_text = example['abstract']  # Or any other combination\n",
    "    example['ID'] = generate_id(unique_text)\n",
    "    return example\n",
    "\n",
    "dataset_with_id = dataset.map(add_id)"
   ]
  },
  {
   "cell_type": "code",
   "execution_count": null,
   "id": "5c714419-3996-48f6-913c-d1fd9b2a2ae6",
   "metadata": {},
   "outputs": [],
   "source": [
    "dataset_with_id.to_json('data/tokenized_dataset.json')"
   ]
  }
 ],
 "metadata": {
  "kernelspec": {
   "display_name": "LoRa",
   "language": "python",
   "name": "lora"
  },
  "language_info": {
   "codemirror_mode": {
    "name": "ipython",
    "version": 3
   },
   "file_extension": ".py",
   "mimetype": "text/x-python",
   "name": "python",
   "nbconvert_exporter": "python",
   "pygments_lexer": "ipython3",
   "version": "3.11.5"
  }
 },
 "nbformat": 4,
 "nbformat_minor": 5
}
